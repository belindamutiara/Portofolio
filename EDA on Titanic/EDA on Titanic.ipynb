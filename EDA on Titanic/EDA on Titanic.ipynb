{
 "cells": [
  {
   "cell_type": "markdown",
   "id": "f1e382ad",
   "metadata": {},
   "source": [
    "# Group Project Introduction to Data Science "
   ]
  },
  {
   "cell_type": "markdown",
   "id": "2190f0ca",
   "metadata": {},
   "source": [
    "Belinda Mutiara - 2540119596 <br>\n",
    "Clarissa Octa - 2540120143 <br>\n",
    "Evelyn Raharjo - 2540118914 <br>\n",
    "Grace Shirley - 2501996505 <br>"
   ]
  },
  {
   "cell_type": "markdown",
   "id": "6688bccb",
   "metadata": {},
   "source": [
    "# Video Pembahasan"
   ]
  },
  {
   "cell_type": "markdown",
   "id": "407237c2",
   "metadata": {},
   "source": [
    "https://drive.google.com/drive/folders/1HpTBkQ9kctq2xtDc5ewkyNw64li1m9As?usp=sharing"
   ]
  },
  {
   "cell_type": "markdown",
   "id": "e87dd85d",
   "metadata": {},
   "source": [
    "# Titanic Datasets"
   ]
  },
  {
   "cell_type": "markdown",
   "id": "61692d12",
   "metadata": {},
   "source": [
    "<p style='text-align: justify;'> Peristiwa tenggelamnya kapal Titanic termasuk ke dalam salah satu peristiwa bersejarah di duania. Kapal Titanic dikabarkan tenggelam pada tanggal 15 April 1912.</p>\n",
    "<p style='text-align: justify;'>    Kapal Titanic membawa penumpang dari Queenstown, Cherbourg ,dan Southampton menuju New York City. Namun pada tanggal 15 April, kapal Titanic bertabrakan dengan gunug es di daerah Samudera Atlantik dan menewaskan setidaknya 1500 penumpang dari total penumpang beserta awak sebanyak 2224. Diketahui bahwa salah satu penyebab mengapa peristiwa Titanic memmakan korban yang begitu besar ialah karena ketersidaan sekoci yang terbatas. Meskipun terdapat beberapa unsur keberuntungan yang terlibat sehingga beberapa kelompok lebih mungkin untuk bertahan dibandingkan yang lain.</p>\n",
    "<p style='text-align: justify;'>  Ketika kapal mulai tenggelam, para penumpang dan awak kepal di alihkan kedalam sekoci dan banyak pria pada kelas dua ditinggalkan karena kala itu petugas meberikan intruksi<b>\"Perempuan dan anak\"</b> \n",
    "yang di utamakan. tepat sebelum pukul 2 dini hari, bagian kapal Titanic patah dan menenggelamkan seribu orang di dalamnya.</p>\n",
    "    \n",
    "<p style='text-align: justify;'> Dataset Titanic merupakan sebuah data yang memuat informasi mengenai penumpang kapal Titanic mulai dari nma penumpang, nomor tiket, gender penumpang, usia, jumlah kerabat yang dibawa, pelabuhan keberangkatan, harga tiket, kelas tiket, hingga status keselamatan masing-masing penumpang.\n",
    "    Data set Titanic mengandung hapir setengah dari jumlah total penumpang. Dalam hal ini mencakup seluruh penumpang serta awak kapal. \n",
    "    Sumber utama data set Titanic berasak ari Encyclopedia Titanica. </p>"
   ]
  },
  {
   "cell_type": "markdown",
   "id": "cde7b265",
   "metadata": {},
   "source": [
    "#  Deskripsi Data Set"
   ]
  },
  {
   "cell_type": "markdown",
   "id": "cf07bba0",
   "metadata": {},
   "source": [
    "Data Titanic terdiri dari 891 observasi dan 12 variabel, yaitu:\n",
    "\n",
    "\n",
    "\n",
    "*   PassengerId      : Nomor penumpang berurutan dimulai dari 1 sampai 890\n",
    "*   Survived         : Status penumpang yang selamat (1 = selamat, 0 = tidak selamat)\n",
    "*   Pclass           : Kelas penumpang (1,2,3)\n",
    "*   Name             : Nama penumpang\n",
    "*   Sex              : Jenis kelamin penumpang\n",
    "*   Age              : Umur penumpang\n",
    "*   SibSp            : Jumlah saudara dan pasangan yang di bawa\n",
    "*   Parch            : Jumlah orang tua dan anak yang di bawa\n",
    "*   Ticket           : Nomor tiket\n",
    "*   Fare             : Tarif penumpang (dalam satuan british pound)\n",
    "*   Cabin            : Kabin\n",
    "*   Embarked         : Pelabuhan Keberangkatan (C = Cherbourg, Q = Queenstown, S = Southampton)\n",
    "\n",
    "Catatan:\n",
    "* Age dalam satuan tahun. Jika penumpang kurang dari 1 tahun maka umur tersebut akan berbentuk bilangan koma kurang dari 1. Jika umur penumpang tidak pasti (di estimasikan) maka bentuknya xx.5 (misalnya 34.5).\n",
    "* Saudra : Kakak dan adik kandung maupun saudara tiri\n",
    "* Pasangan : Suami ataupun Istri dari penumpang\n",
    "* Orangtua : Ayah atau Ibu penumpang\n",
    "* Anak : anak kandung maupun anak tiri"
   ]
  },
  {
   "cell_type": "markdown",
   "id": "8002db84",
   "metadata": {},
   "source": [
    "#  Load libraries and Data Overview</a> "
   ]
  },
  {
   "cell_type": "markdown",
   "id": "e920fd7d",
   "metadata": {},
   "source": [
    "## 1. Load libraries"
   ]
  },
  {
   "cell_type": "code",
   "execution_count": 309,
   "id": "c9dc96c2",
   "metadata": {},
   "outputs": [],
   "source": [
    "#Mengimport library\n",
    "\n",
    "import pandas as pd\n",
    "import seaborn as sns\n",
    "import numpy as np\n",
    "import matplotlib.pyplot as plt\n",
    "import warnings\n",
    "warnings.filterwarnings(\"ignore\")"
   ]
  },
  {
   "cell_type": "markdown",
   "id": "738cfefd",
   "metadata": {},
   "source": [
    "#  Overview Data"
   ]
  },
  {
   "cell_type": "code",
   "execution_count": 310,
   "id": "99c1f101",
   "metadata": {},
   "outputs": [],
   "source": [
    "#Mendifinikan variabel titanic yang membaca data csv berjudul \"train.csv\".\n",
    "\n",
    "titanic = pd.read_csv(\"File/train.csv\")"
   ]
  },
  {
   "cell_type": "code",
   "execution_count": 311,
   "id": "321ecdf5",
   "metadata": {},
   "outputs": [
    {
     "name": "stdout",
     "output_type": "stream",
     "text": [
      "<class 'pandas.core.frame.DataFrame'>\n",
      "Jumlah baris data Titanic adlah  891\n",
      "Jumlah kolom data Titanic adalah  12\n"
     ]
    }
   ],
   "source": [
    "print(type(titanic))\n",
    "row,column=titanic.shape\n",
    "\n",
    "print(\"Jumlah baris data Titanic adlah \", row)\n",
    "print(\"Jumlah kolom data Titanic adalah \", column)"
   ]
  },
  {
   "cell_type": "code",
   "execution_count": 312,
   "id": "1a8583b3",
   "metadata": {},
   "outputs": [
    {
     "name": "stdout",
     "output_type": "stream",
     "text": [
      "<class 'pandas.core.frame.DataFrame'>\n",
      "RangeIndex: 891 entries, 0 to 890\n",
      "Data columns (total 12 columns):\n",
      " #   Column       Non-Null Count  Dtype  \n",
      "---  ------       --------------  -----  \n",
      " 0   PassengerId  891 non-null    int64  \n",
      " 1   Survived     891 non-null    int64  \n",
      " 2   Pclass       891 non-null    int64  \n",
      " 3   Name         891 non-null    object \n",
      " 4   Sex          891 non-null    object \n",
      " 5   Age          714 non-null    float64\n",
      " 6   SibSp        891 non-null    int64  \n",
      " 7   Parch        891 non-null    int64  \n",
      " 8   Ticket       891 non-null    object \n",
      " 9   Fare         891 non-null    float64\n",
      " 10  Cabin        204 non-null    object \n",
      " 11  Embarked     889 non-null    object \n",
      "dtypes: float64(2), int64(5), object(5)\n",
      "memory usage: 83.7+ KB\n"
     ]
    }
   ],
   "source": [
    "titanic.info()"
   ]
  },
  {
   "cell_type": "markdown",
   "id": "3f6c0372",
   "metadata": {},
   "source": [
    "Tipe Data Titanic adalah data frame dan Ukuran Data Titanic adalah sebanyak 891 baris dan 12 kolom. Data set Titanic memiliki 3 tipe data yaitu integer, float, dan string.\n",
    "\n",
    "Berikut merupakan tipe data dari masing-masing kolom:\n",
    "1. PassengerId, Survived, Pclass, SibSp, dan juga Parch merupakan kelompok yang memiliki tipe data numerik yaitu bilangan bulat.\n",
    "2. Age dan Fare merupakan kelompok yang memiliki tipe data numerik yaitu bilangan koma.\n",
    "3. Name, Sex, Ticket, Cabin, dan Embarked merupakan tipe data kategorikal yaitu berupa kumpulan karakter (string).\n",
    "\n",
    "<p style='text-align: justify;'> Pada tabel diatas indexing data menggunakan tipe data integer dimulai dari angka 0. Selain itu kita juga dapat menemukan bahwa beberapa kolom memiliki missing value  yaitu kolom Age, Cabin, dan Embarked. </p>"
   ]
  },
  {
   "cell_type": "code",
   "execution_count": 313,
   "id": "25df0a11",
   "metadata": {},
   "outputs": [
    {
     "data": {
      "text/html": [
       "<div>\n",
       "<style scoped>\n",
       "    .dataframe tbody tr th:only-of-type {\n",
       "        vertical-align: middle;\n",
       "    }\n",
       "\n",
       "    .dataframe tbody tr th {\n",
       "        vertical-align: top;\n",
       "    }\n",
       "\n",
       "    .dataframe thead th {\n",
       "        text-align: right;\n",
       "    }\n",
       "</style>\n",
       "<table border=\"1\" class=\"dataframe\">\n",
       "  <thead>\n",
       "    <tr style=\"text-align: right;\">\n",
       "      <th></th>\n",
       "      <th>PassengerId</th>\n",
       "      <th>Survived</th>\n",
       "      <th>Pclass</th>\n",
       "      <th>Name</th>\n",
       "      <th>Sex</th>\n",
       "      <th>Age</th>\n",
       "      <th>SibSp</th>\n",
       "      <th>Parch</th>\n",
       "      <th>Ticket</th>\n",
       "      <th>Fare</th>\n",
       "      <th>Cabin</th>\n",
       "      <th>Embarked</th>\n",
       "    </tr>\n",
       "  </thead>\n",
       "  <tbody>\n",
       "    <tr>\n",
       "      <th>0</th>\n",
       "      <td>1</td>\n",
       "      <td>0</td>\n",
       "      <td>3</td>\n",
       "      <td>Braund, Mr. Owen Harris</td>\n",
       "      <td>male</td>\n",
       "      <td>22.0</td>\n",
       "      <td>1</td>\n",
       "      <td>0</td>\n",
       "      <td>A/5 21171</td>\n",
       "      <td>7.2500</td>\n",
       "      <td>NaN</td>\n",
       "      <td>S</td>\n",
       "    </tr>\n",
       "    <tr>\n",
       "      <th>1</th>\n",
       "      <td>2</td>\n",
       "      <td>1</td>\n",
       "      <td>1</td>\n",
       "      <td>Cumings, Mrs. John Bradley (Florence Briggs Th...</td>\n",
       "      <td>female</td>\n",
       "      <td>38.0</td>\n",
       "      <td>1</td>\n",
       "      <td>0</td>\n",
       "      <td>PC 17599</td>\n",
       "      <td>71.2833</td>\n",
       "      <td>C85</td>\n",
       "      <td>C</td>\n",
       "    </tr>\n",
       "    <tr>\n",
       "      <th>2</th>\n",
       "      <td>3</td>\n",
       "      <td>1</td>\n",
       "      <td>3</td>\n",
       "      <td>Heikkinen, Miss. Laina</td>\n",
       "      <td>female</td>\n",
       "      <td>26.0</td>\n",
       "      <td>0</td>\n",
       "      <td>0</td>\n",
       "      <td>STON/O2. 3101282</td>\n",
       "      <td>7.9250</td>\n",
       "      <td>NaN</td>\n",
       "      <td>S</td>\n",
       "    </tr>\n",
       "    <tr>\n",
       "      <th>3</th>\n",
       "      <td>4</td>\n",
       "      <td>1</td>\n",
       "      <td>1</td>\n",
       "      <td>Futrelle, Mrs. Jacques Heath (Lily May Peel)</td>\n",
       "      <td>female</td>\n",
       "      <td>35.0</td>\n",
       "      <td>1</td>\n",
       "      <td>0</td>\n",
       "      <td>113803</td>\n",
       "      <td>53.1000</td>\n",
       "      <td>C123</td>\n",
       "      <td>S</td>\n",
       "    </tr>\n",
       "    <tr>\n",
       "      <th>4</th>\n",
       "      <td>5</td>\n",
       "      <td>0</td>\n",
       "      <td>3</td>\n",
       "      <td>Allen, Mr. William Henry</td>\n",
       "      <td>male</td>\n",
       "      <td>35.0</td>\n",
       "      <td>0</td>\n",
       "      <td>0</td>\n",
       "      <td>373450</td>\n",
       "      <td>8.0500</td>\n",
       "      <td>NaN</td>\n",
       "      <td>S</td>\n",
       "    </tr>\n",
       "  </tbody>\n",
       "</table>\n",
       "</div>"
      ],
      "text/plain": [
       "   PassengerId  Survived  Pclass  \\\n",
       "0            1         0       3   \n",
       "1            2         1       1   \n",
       "2            3         1       3   \n",
       "3            4         1       1   \n",
       "4            5         0       3   \n",
       "\n",
       "                                                Name     Sex   Age  SibSp  \\\n",
       "0                            Braund, Mr. Owen Harris    male  22.0      1   \n",
       "1  Cumings, Mrs. John Bradley (Florence Briggs Th...  female  38.0      1   \n",
       "2                             Heikkinen, Miss. Laina  female  26.0      0   \n",
       "3       Futrelle, Mrs. Jacques Heath (Lily May Peel)  female  35.0      1   \n",
       "4                           Allen, Mr. William Henry    male  35.0      0   \n",
       "\n",
       "   Parch            Ticket     Fare Cabin Embarked  \n",
       "0      0         A/5 21171   7.2500   NaN        S  \n",
       "1      0          PC 17599  71.2833   C85        C  \n",
       "2      0  STON/O2. 3101282   7.9250   NaN        S  \n",
       "3      0            113803  53.1000  C123        S  \n",
       "4      0            373450   8.0500   NaN        S  "
      ]
     },
     "execution_count": 313,
     "metadata": {},
     "output_type": "execute_result"
    }
   ],
   "source": [
    "titanic.head(5)\n",
    "#Melihat 5 data teratas"
   ]
  },
  {
   "cell_type": "markdown",
   "id": "342d2392",
   "metadata": {},
   "source": [
    "<p style='text-align: justify;'> Dataset terdiri dari beberapa variabel independen dan satu variabel target (dependen) yaitu \"Survived\", Variabel independen meliputi jumlah PassengerId, Pclass, Name, Sex, Age, SibSp, Ticket, Fare, Cabin, dan Embarked. </p>"
   ]
  },
  {
   "cell_type": "code",
   "execution_count": 314,
   "id": "49c2632d",
   "metadata": {},
   "outputs": [
    {
     "data": {
      "text/html": [
       "<div>\n",
       "<style scoped>\n",
       "    .dataframe tbody tr th:only-of-type {\n",
       "        vertical-align: middle;\n",
       "    }\n",
       "\n",
       "    .dataframe tbody tr th {\n",
       "        vertical-align: top;\n",
       "    }\n",
       "\n",
       "    .dataframe thead th {\n",
       "        text-align: right;\n",
       "    }\n",
       "</style>\n",
       "<table border=\"1\" class=\"dataframe\">\n",
       "  <thead>\n",
       "    <tr style=\"text-align: right;\">\n",
       "      <th></th>\n",
       "      <th>PassengerId</th>\n",
       "      <th>Survived</th>\n",
       "      <th>Pclass</th>\n",
       "      <th>Name</th>\n",
       "      <th>Sex</th>\n",
       "      <th>Age</th>\n",
       "      <th>SibSp</th>\n",
       "      <th>Parch</th>\n",
       "      <th>Ticket</th>\n",
       "      <th>Fare</th>\n",
       "      <th>Cabin</th>\n",
       "      <th>Embarked</th>\n",
       "    </tr>\n",
       "  </thead>\n",
       "  <tbody>\n",
       "    <tr>\n",
       "      <th>886</th>\n",
       "      <td>887</td>\n",
       "      <td>0</td>\n",
       "      <td>2</td>\n",
       "      <td>Montvila, Rev. Juozas</td>\n",
       "      <td>male</td>\n",
       "      <td>27.0</td>\n",
       "      <td>0</td>\n",
       "      <td>0</td>\n",
       "      <td>211536</td>\n",
       "      <td>13.00</td>\n",
       "      <td>NaN</td>\n",
       "      <td>S</td>\n",
       "    </tr>\n",
       "    <tr>\n",
       "      <th>887</th>\n",
       "      <td>888</td>\n",
       "      <td>1</td>\n",
       "      <td>1</td>\n",
       "      <td>Graham, Miss. Margaret Edith</td>\n",
       "      <td>female</td>\n",
       "      <td>19.0</td>\n",
       "      <td>0</td>\n",
       "      <td>0</td>\n",
       "      <td>112053</td>\n",
       "      <td>30.00</td>\n",
       "      <td>B42</td>\n",
       "      <td>S</td>\n",
       "    </tr>\n",
       "    <tr>\n",
       "      <th>888</th>\n",
       "      <td>889</td>\n",
       "      <td>0</td>\n",
       "      <td>3</td>\n",
       "      <td>Johnston, Miss. Catherine Helen \"Carrie\"</td>\n",
       "      <td>female</td>\n",
       "      <td>NaN</td>\n",
       "      <td>1</td>\n",
       "      <td>2</td>\n",
       "      <td>W./C. 6607</td>\n",
       "      <td>23.45</td>\n",
       "      <td>NaN</td>\n",
       "      <td>S</td>\n",
       "    </tr>\n",
       "    <tr>\n",
       "      <th>889</th>\n",
       "      <td>890</td>\n",
       "      <td>1</td>\n",
       "      <td>1</td>\n",
       "      <td>Behr, Mr. Karl Howell</td>\n",
       "      <td>male</td>\n",
       "      <td>26.0</td>\n",
       "      <td>0</td>\n",
       "      <td>0</td>\n",
       "      <td>111369</td>\n",
       "      <td>30.00</td>\n",
       "      <td>C148</td>\n",
       "      <td>C</td>\n",
       "    </tr>\n",
       "    <tr>\n",
       "      <th>890</th>\n",
       "      <td>891</td>\n",
       "      <td>0</td>\n",
       "      <td>3</td>\n",
       "      <td>Dooley, Mr. Patrick</td>\n",
       "      <td>male</td>\n",
       "      <td>32.0</td>\n",
       "      <td>0</td>\n",
       "      <td>0</td>\n",
       "      <td>370376</td>\n",
       "      <td>7.75</td>\n",
       "      <td>NaN</td>\n",
       "      <td>Q</td>\n",
       "    </tr>\n",
       "  </tbody>\n",
       "</table>\n",
       "</div>"
      ],
      "text/plain": [
       "     PassengerId  Survived  Pclass                                      Name  \\\n",
       "886          887         0       2                     Montvila, Rev. Juozas   \n",
       "887          888         1       1              Graham, Miss. Margaret Edith   \n",
       "888          889         0       3  Johnston, Miss. Catherine Helen \"Carrie\"   \n",
       "889          890         1       1                     Behr, Mr. Karl Howell   \n",
       "890          891         0       3                       Dooley, Mr. Patrick   \n",
       "\n",
       "        Sex   Age  SibSp  Parch      Ticket   Fare Cabin Embarked  \n",
       "886    male  27.0      0      0      211536  13.00   NaN        S  \n",
       "887  female  19.0      0      0      112053  30.00   B42        S  \n",
       "888  female   NaN      1      2  W./C. 6607  23.45   NaN        S  \n",
       "889    male  26.0      0      0      111369  30.00  C148        C  \n",
       "890    male  32.0      0      0      370376   7.75   NaN        Q  "
      ]
     },
     "execution_count": 314,
     "metadata": {},
     "output_type": "execute_result"
    }
   ],
   "source": [
    "titanic.tail(5)\n",
    "# Melihat 5 data terbawah"
   ]
  },
  {
   "cell_type": "code",
   "execution_count": 315,
   "id": "a51b2332",
   "metadata": {},
   "outputs": [
    {
     "data": {
      "text/html": [
       "<div>\n",
       "<style scoped>\n",
       "    .dataframe tbody tr th:only-of-type {\n",
       "        vertical-align: middle;\n",
       "    }\n",
       "\n",
       "    .dataframe tbody tr th {\n",
       "        vertical-align: top;\n",
       "    }\n",
       "\n",
       "    .dataframe thead th {\n",
       "        text-align: right;\n",
       "    }\n",
       "</style>\n",
       "<table border=\"1\" class=\"dataframe\">\n",
       "  <thead>\n",
       "    <tr style=\"text-align: right;\">\n",
       "      <th></th>\n",
       "      <th>PassengerId</th>\n",
       "      <th>Survived</th>\n",
       "      <th>Pclass</th>\n",
       "      <th>Name</th>\n",
       "      <th>Sex</th>\n",
       "      <th>Age</th>\n",
       "      <th>SibSp</th>\n",
       "      <th>Parch</th>\n",
       "      <th>Ticket</th>\n",
       "      <th>Fare</th>\n",
       "      <th>Cabin</th>\n",
       "      <th>Embarked</th>\n",
       "    </tr>\n",
       "  </thead>\n",
       "  <tbody>\n",
       "    <tr>\n",
       "      <th>306</th>\n",
       "      <td>307</td>\n",
       "      <td>1</td>\n",
       "      <td>1</td>\n",
       "      <td>Fleming, Miss. Margaret</td>\n",
       "      <td>female</td>\n",
       "      <td>NaN</td>\n",
       "      <td>0</td>\n",
       "      <td>0</td>\n",
       "      <td>17421</td>\n",
       "      <td>110.8833</td>\n",
       "      <td>NaN</td>\n",
       "      <td>C</td>\n",
       "    </tr>\n",
       "    <tr>\n",
       "      <th>580</th>\n",
       "      <td>581</td>\n",
       "      <td>1</td>\n",
       "      <td>2</td>\n",
       "      <td>Christy, Miss. Julie Rachel</td>\n",
       "      <td>female</td>\n",
       "      <td>25.0</td>\n",
       "      <td>1</td>\n",
       "      <td>1</td>\n",
       "      <td>237789</td>\n",
       "      <td>30.0000</td>\n",
       "      <td>NaN</td>\n",
       "      <td>S</td>\n",
       "    </tr>\n",
       "    <tr>\n",
       "      <th>422</th>\n",
       "      <td>423</td>\n",
       "      <td>0</td>\n",
       "      <td>3</td>\n",
       "      <td>Zimmerman, Mr. Leo</td>\n",
       "      <td>male</td>\n",
       "      <td>29.0</td>\n",
       "      <td>0</td>\n",
       "      <td>0</td>\n",
       "      <td>315082</td>\n",
       "      <td>7.8750</td>\n",
       "      <td>NaN</td>\n",
       "      <td>S</td>\n",
       "    </tr>\n",
       "    <tr>\n",
       "      <th>775</th>\n",
       "      <td>776</td>\n",
       "      <td>0</td>\n",
       "      <td>3</td>\n",
       "      <td>Myhrman, Mr. Pehr Fabian Oliver Malkolm</td>\n",
       "      <td>male</td>\n",
       "      <td>18.0</td>\n",
       "      <td>0</td>\n",
       "      <td>0</td>\n",
       "      <td>347078</td>\n",
       "      <td>7.7500</td>\n",
       "      <td>NaN</td>\n",
       "      <td>S</td>\n",
       "    </tr>\n",
       "    <tr>\n",
       "      <th>728</th>\n",
       "      <td>729</td>\n",
       "      <td>0</td>\n",
       "      <td>2</td>\n",
       "      <td>Bryhl, Mr. Kurt Arnold Gottfrid</td>\n",
       "      <td>male</td>\n",
       "      <td>25.0</td>\n",
       "      <td>1</td>\n",
       "      <td>0</td>\n",
       "      <td>236853</td>\n",
       "      <td>26.0000</td>\n",
       "      <td>NaN</td>\n",
       "      <td>S</td>\n",
       "    </tr>\n",
       "  </tbody>\n",
       "</table>\n",
       "</div>"
      ],
      "text/plain": [
       "     PassengerId  Survived  Pclass                                     Name  \\\n",
       "306          307         1       1                  Fleming, Miss. Margaret   \n",
       "580          581         1       2              Christy, Miss. Julie Rachel   \n",
       "422          423         0       3                       Zimmerman, Mr. Leo   \n",
       "775          776         0       3  Myhrman, Mr. Pehr Fabian Oliver Malkolm   \n",
       "728          729         0       2          Bryhl, Mr. Kurt Arnold Gottfrid   \n",
       "\n",
       "        Sex   Age  SibSp  Parch  Ticket      Fare Cabin Embarked  \n",
       "306  female   NaN      0      0   17421  110.8833   NaN        C  \n",
       "580  female  25.0      1      1  237789   30.0000   NaN        S  \n",
       "422    male  29.0      0      0  315082    7.8750   NaN        S  \n",
       "775    male  18.0      0      0  347078    7.7500   NaN        S  \n",
       "728    male  25.0      1      0  236853   26.0000   NaN        S  "
      ]
     },
     "execution_count": 315,
     "metadata": {},
     "output_type": "execute_result"
    }
   ],
   "source": [
    "titanic.sample(5)\n",
    "# Melihat 5 data secara acak"
   ]
  },
  {
   "cell_type": "markdown",
   "id": "709113dc",
   "metadata": {},
   "source": [
    "# Memeriksa Duplikasi Data"
   ]
  },
  {
   "cell_type": "code",
   "execution_count": 316,
   "id": "c28d82b8",
   "metadata": {},
   "outputs": [
    {
     "name": "stdout",
     "output_type": "stream",
     "text": [
      "(891, 12)\n",
      "(0, 12)\n"
     ]
    }
   ],
   "source": [
    "print(titanic.shape)\n",
    "print(titanic[titanic.duplicated()].shape)"
   ]
  },
  {
   "cell_type": "markdown",
   "id": "cb0289cd",
   "metadata": {},
   "source": [
    "Setelah diperiksa ternyata data Titanic tidak memiliki data yang terduplikasi."
   ]
  },
  {
   "cell_type": "markdown",
   "id": "b8bdb437",
   "metadata": {},
   "source": [
    "# Deskripsi Data"
   ]
  },
  {
   "cell_type": "code",
   "execution_count": 317,
   "id": "1fabf7b5",
   "metadata": {},
   "outputs": [
    {
     "data": {
      "text/html": [
       "<div>\n",
       "<style scoped>\n",
       "    .dataframe tbody tr th:only-of-type {\n",
       "        vertical-align: middle;\n",
       "    }\n",
       "\n",
       "    .dataframe tbody tr th {\n",
       "        vertical-align: top;\n",
       "    }\n",
       "\n",
       "    .dataframe thead th {\n",
       "        text-align: right;\n",
       "    }\n",
       "</style>\n",
       "<table border=\"1\" class=\"dataframe\">\n",
       "  <thead>\n",
       "    <tr style=\"text-align: right;\">\n",
       "      <th></th>\n",
       "      <th>count</th>\n",
       "      <th>mean</th>\n",
       "      <th>std</th>\n",
       "      <th>min</th>\n",
       "      <th>25%</th>\n",
       "      <th>50%</th>\n",
       "      <th>75%</th>\n",
       "      <th>max</th>\n",
       "    </tr>\n",
       "  </thead>\n",
       "  <tbody>\n",
       "    <tr>\n",
       "      <th>PassengerId</th>\n",
       "      <td>891.0</td>\n",
       "      <td>446.000000</td>\n",
       "      <td>257.353842</td>\n",
       "      <td>1.00</td>\n",
       "      <td>223.5000</td>\n",
       "      <td>446.0000</td>\n",
       "      <td>668.5</td>\n",
       "      <td>891.0000</td>\n",
       "    </tr>\n",
       "    <tr>\n",
       "      <th>Survived</th>\n",
       "      <td>891.0</td>\n",
       "      <td>0.383838</td>\n",
       "      <td>0.486592</td>\n",
       "      <td>0.00</td>\n",
       "      <td>0.0000</td>\n",
       "      <td>0.0000</td>\n",
       "      <td>1.0</td>\n",
       "      <td>1.0000</td>\n",
       "    </tr>\n",
       "    <tr>\n",
       "      <th>Pclass</th>\n",
       "      <td>891.0</td>\n",
       "      <td>2.308642</td>\n",
       "      <td>0.836071</td>\n",
       "      <td>1.00</td>\n",
       "      <td>2.0000</td>\n",
       "      <td>3.0000</td>\n",
       "      <td>3.0</td>\n",
       "      <td>3.0000</td>\n",
       "    </tr>\n",
       "    <tr>\n",
       "      <th>Age</th>\n",
       "      <td>714.0</td>\n",
       "      <td>29.699118</td>\n",
       "      <td>14.526497</td>\n",
       "      <td>0.42</td>\n",
       "      <td>20.1250</td>\n",
       "      <td>28.0000</td>\n",
       "      <td>38.0</td>\n",
       "      <td>80.0000</td>\n",
       "    </tr>\n",
       "    <tr>\n",
       "      <th>SibSp</th>\n",
       "      <td>891.0</td>\n",
       "      <td>0.523008</td>\n",
       "      <td>1.102743</td>\n",
       "      <td>0.00</td>\n",
       "      <td>0.0000</td>\n",
       "      <td>0.0000</td>\n",
       "      <td>1.0</td>\n",
       "      <td>8.0000</td>\n",
       "    </tr>\n",
       "    <tr>\n",
       "      <th>Parch</th>\n",
       "      <td>891.0</td>\n",
       "      <td>0.381594</td>\n",
       "      <td>0.806057</td>\n",
       "      <td>0.00</td>\n",
       "      <td>0.0000</td>\n",
       "      <td>0.0000</td>\n",
       "      <td>0.0</td>\n",
       "      <td>6.0000</td>\n",
       "    </tr>\n",
       "    <tr>\n",
       "      <th>Fare</th>\n",
       "      <td>891.0</td>\n",
       "      <td>32.204208</td>\n",
       "      <td>49.693429</td>\n",
       "      <td>0.00</td>\n",
       "      <td>7.9104</td>\n",
       "      <td>14.4542</td>\n",
       "      <td>31.0</td>\n",
       "      <td>512.3292</td>\n",
       "    </tr>\n",
       "  </tbody>\n",
       "</table>\n",
       "</div>"
      ],
      "text/plain": [
       "             count        mean         std   min       25%       50%    75%  \\\n",
       "PassengerId  891.0  446.000000  257.353842  1.00  223.5000  446.0000  668.5   \n",
       "Survived     891.0    0.383838    0.486592  0.00    0.0000    0.0000    1.0   \n",
       "Pclass       891.0    2.308642    0.836071  1.00    2.0000    3.0000    3.0   \n",
       "Age          714.0   29.699118   14.526497  0.42   20.1250   28.0000   38.0   \n",
       "SibSp        891.0    0.523008    1.102743  0.00    0.0000    0.0000    1.0   \n",
       "Parch        891.0    0.381594    0.806057  0.00    0.0000    0.0000    0.0   \n",
       "Fare         891.0   32.204208   49.693429  0.00    7.9104   14.4542   31.0   \n",
       "\n",
       "                  max  \n",
       "PassengerId  891.0000  \n",
       "Survived       1.0000  \n",
       "Pclass         3.0000  \n",
       "Age           80.0000  \n",
       "SibSp          8.0000  \n",
       "Parch          6.0000  \n",
       "Fare         512.3292  "
      ]
     },
     "execution_count": 317,
     "metadata": {},
     "output_type": "execute_result"
    }
   ],
   "source": [
    "titanic.describe().T"
   ]
  },
  {
   "cell_type": "markdown",
   "id": "5b206a1a",
   "metadata": {},
   "source": [
    "* Kolom age hanya terisi 714 baris, sedangkan 177 baris lainnya tidakk memiliki nilai(missing value)\n",
    "* Hanya kolom PassengerId saja yang terdistribusi normal karena memiliki nilai mean dan median yang sama sedangkan kolom lain tidak.\n",
    "* Nilai minimum Fare adalah 0, hal ini merupakan hal yang wajar dikarenakan pada data Titanic para pekerja kapal juga diikutsertakan (staff/anak buah kapal/pekerja kapal dikenakan biaya sebesar 0 pounds)"
   ]
  },
  {
   "cell_type": "markdown",
   "id": "ccb06132",
   "metadata": {},
   "source": [
    "# Distribusi Data Titanic"
   ]
  },
  {
   "cell_type": "code",
   "execution_count": 318,
   "id": "2eeb06a6",
   "metadata": {},
   "outputs": [
    {
     "data": {
      "image/png": "[encoded data removed]",
      "text/plain": [
       "<Figure size 1440x1080 with 9 Axes>"
      ]
     },
     "metadata": {
      "needs_background": "light"
     },
     "output_type": "display_data"
    }
   ],
   "source": [
    "# Density plots for all attributes to visualize the distribution of each attribute\n",
    "titanic.plot(kind='density', subplots=True, layout=(3,3), figsize=(20, 15), sharex=False)\n",
    "plt.show()"
   ]
  },
  {
   "cell_type": "markdown",
   "id": "d7680552",
   "metadata": {},
   "source": [
    "##### Right Skewed: Age, SibSp, Parch, dan Fare"
   ]
  },
  {
   "cell_type": "markdown",
   "id": "02a842c5",
   "metadata": {},
   "source": [
    "# Missing Value "
   ]
  },
  {
   "cell_type": "code",
   "execution_count": 319,
   "id": "3868d74d",
   "metadata": {},
   "outputs": [
    {
     "name": "stdout",
     "output_type": "stream",
     "text": [
      "PassengerId      0\n",
      "Survived         0\n",
      "Pclass           0\n",
      "Name             0\n",
      "Sex              0\n",
      "Age            177\n",
      "SibSp            0\n",
      "Parch            0\n",
      "Ticket           0\n",
      "Fare             0\n",
      "Cabin          687\n",
      "Embarked         2\n",
      "dtype: int64\n",
      "(891, 12)\n"
     ]
    }
   ],
   "source": [
    "print(titanic.isnull().sum())\n",
    "print(titanic.shape)"
   ]
  },
  {
   "cell_type": "markdown",
   "id": "7e95b033",
   "metadata": {},
   "source": [
    "<p style='text-align: justify;'> Data diatas menunjukan jumlah nilai yang kosong dari masing-masing kolom.\n",
    "\n",
    "Pada kolom Age, Cabin, dan Embarked terdapat *missing* *value* atau sel yang tidak bernilai. Oleh karena itu perlu di lakukan penanganan khusus terhadap kolom Age, Cabin, dan Embarked.</p>\n",
    "\n",
    "Missing value:\n",
    "* Age : 177 - 19.8%\n",
    "* Cabin : 687 - 77.1%\n",
    "* Embarked : 2 - 0.2%"
   ]
  },
  {
   "cell_type": "code",
   "execution_count": 320,
   "id": "d325128c",
   "metadata": {},
   "outputs": [
    {
     "data": {
      "text/plain": [
       "<AxesSubplot:>"
      ]
     },
     "execution_count": 320,
     "metadata": {},
     "output_type": "execute_result"
    },
    {
     "data": {
      "image/png": "[encoded data removed]",
      "text/plain": [
       "<Figure size 1080x504 with 1 Axes>"
      ]
     },
     "metadata": {
      "needs_background": "light"
     },
     "output_type": "display_data"
    }
   ],
   "source": [
    "plt.figure(figsize=(15, 7))\n",
    "sns.heatmap(titanic.isnull(),yticklabels=False,cbar=False)"
   ]
  },
  {
   "cell_type": "markdown",
   "id": "66e0aa38",
   "metadata": {},
   "source": [
    "<p style='text-align: justify;'> Visualisasi di atas merupakan persebaran missing value dari data Titanic. Garis berwarna krem menandakan bahwa pada baris dan kolom tersebut terdapat missing value <br>\n",
    "Oleh karena terdapat missing value pada beberapa kolom, maka perlu dilakukan penangan khusus terhadap ketiga variable tersebut. </p>"
   ]
  },
  {
   "cell_type": "markdown",
   "id": "c86a9938",
   "metadata": {},
   "source": [
    "# Kolom Age\n"
   ]
  },
  {
   "cell_type": "markdown",
   "id": "68eb5d3d",
   "metadata": {},
   "source": [
    "Dari data diatas telah diketahui bahwa kolom Age tidak berditribusi normal sehingga *missing value* akan diisi dengan median kolom Age.  "
   ]
  },
  {
   "cell_type": "code",
   "execution_count": 321,
   "id": "3b5fa09b",
   "metadata": {},
   "outputs": [],
   "source": [
    "for col in titanic[[\"Age\"]]:\n",
    "    titanic.loc[(titanic[\"Survived\"] == 0) & (titanic[col].isnull()), col] = titanic[titanic[\"Survived\"] == 0][col].median()\n",
    "    titanic.loc[(titanic[\"Survived\"] == 1) & (titanic[col].isnull()), col] = titanic[titanic[\"Survived\"] == 1][col].median()"
   ]
  },
  {
   "cell_type": "code",
   "execution_count": 322,
   "id": "f377af64",
   "metadata": {},
   "outputs": [
    {
     "data": {
      "text/html": [
       "<div>\n",
       "<style scoped>\n",
       "    .dataframe tbody tr th:only-of-type {\n",
       "        vertical-align: middle;\n",
       "    }\n",
       "\n",
       "    .dataframe tbody tr th {\n",
       "        vertical-align: top;\n",
       "    }\n",
       "\n",
       "    .dataframe thead th {\n",
       "        text-align: right;\n",
       "    }\n",
       "</style>\n",
       "<table border=\"1\" class=\"dataframe\">\n",
       "  <thead>\n",
       "    <tr style=\"text-align: right;\">\n",
       "      <th></th>\n",
       "      <th>count</th>\n",
       "      <th>mean</th>\n",
       "      <th>std</th>\n",
       "      <th>min</th>\n",
       "      <th>25%</th>\n",
       "      <th>50%</th>\n",
       "      <th>75%</th>\n",
       "      <th>max</th>\n",
       "    </tr>\n",
       "  </thead>\n",
       "  <tbody>\n",
       "    <tr>\n",
       "      <th>PassengerId</th>\n",
       "      <td>891.0</td>\n",
       "      <td>446.000000</td>\n",
       "      <td>257.353842</td>\n",
       "      <td>1.00</td>\n",
       "      <td>223.5000</td>\n",
       "      <td>446.0000</td>\n",
       "      <td>668.5</td>\n",
       "      <td>891.0000</td>\n",
       "    </tr>\n",
       "    <tr>\n",
       "      <th>Survived</th>\n",
       "      <td>891.0</td>\n",
       "      <td>0.383838</td>\n",
       "      <td>0.486592</td>\n",
       "      <td>0.00</td>\n",
       "      <td>0.0000</td>\n",
       "      <td>0.0000</td>\n",
       "      <td>1.0</td>\n",
       "      <td>1.0000</td>\n",
       "    </tr>\n",
       "    <tr>\n",
       "      <th>Pclass</th>\n",
       "      <td>891.0</td>\n",
       "      <td>2.308642</td>\n",
       "      <td>0.836071</td>\n",
       "      <td>1.00</td>\n",
       "      <td>2.0000</td>\n",
       "      <td>3.0000</td>\n",
       "      <td>3.0</td>\n",
       "      <td>3.0000</td>\n",
       "    </tr>\n",
       "    <tr>\n",
       "      <th>Age</th>\n",
       "      <td>891.0</td>\n",
       "      <td>29.361582</td>\n",
       "      <td>13.019697</td>\n",
       "      <td>0.42</td>\n",
       "      <td>22.0000</td>\n",
       "      <td>28.0000</td>\n",
       "      <td>35.0</td>\n",
       "      <td>80.0000</td>\n",
       "    </tr>\n",
       "    <tr>\n",
       "      <th>SibSp</th>\n",
       "      <td>891.0</td>\n",
       "      <td>0.523008</td>\n",
       "      <td>1.102743</td>\n",
       "      <td>0.00</td>\n",
       "      <td>0.0000</td>\n",
       "      <td>0.0000</td>\n",
       "      <td>1.0</td>\n",
       "      <td>8.0000</td>\n",
       "    </tr>\n",
       "    <tr>\n",
       "      <th>Parch</th>\n",
       "      <td>891.0</td>\n",
       "      <td>0.381594</td>\n",
       "      <td>0.806057</td>\n",
       "      <td>0.00</td>\n",
       "      <td>0.0000</td>\n",
       "      <td>0.0000</td>\n",
       "      <td>0.0</td>\n",
       "      <td>6.0000</td>\n",
       "    </tr>\n",
       "    <tr>\n",
       "      <th>Fare</th>\n",
       "      <td>891.0</td>\n",
       "      <td>32.204208</td>\n",
       "      <td>49.693429</td>\n",
       "      <td>0.00</td>\n",
       "      <td>7.9104</td>\n",
       "      <td>14.4542</td>\n",
       "      <td>31.0</td>\n",
       "      <td>512.3292</td>\n",
       "    </tr>\n",
       "  </tbody>\n",
       "</table>\n",
       "</div>"
      ],
      "text/plain": [
       "             count        mean         std   min       25%       50%    75%  \\\n",
       "PassengerId  891.0  446.000000  257.353842  1.00  223.5000  446.0000  668.5   \n",
       "Survived     891.0    0.383838    0.486592  0.00    0.0000    0.0000    1.0   \n",
       "Pclass       891.0    2.308642    0.836071  1.00    2.0000    3.0000    3.0   \n",
       "Age          891.0   29.361582   13.019697  0.42   22.0000   28.0000   35.0   \n",
       "SibSp        891.0    0.523008    1.102743  0.00    0.0000    0.0000    1.0   \n",
       "Parch        891.0    0.381594    0.806057  0.00    0.0000    0.0000    0.0   \n",
       "Fare         891.0   32.204208   49.693429  0.00    7.9104   14.4542   31.0   \n",
       "\n",
       "                  max  \n",
       "PassengerId  891.0000  \n",
       "Survived       1.0000  \n",
       "Pclass         3.0000  \n",
       "Age           80.0000  \n",
       "SibSp          8.0000  \n",
       "Parch          6.0000  \n",
       "Fare         512.3292  "
      ]
     },
     "execution_count": 322,
     "metadata": {},
     "output_type": "execute_result"
    }
   ],
   "source": [
    "titanic.describe().T"
   ]
  },
  {
   "cell_type": "markdown",
   "id": "5345e2ac",
   "metadata": {},
   "source": [
    "Kini nilai kosong pada kolom Age telah diisi dengan median kolom Age. Terjadi sedikit perubaha pada rata-rata mean, yakni yang semula bernilai 29.699 menjad 29.261. "
   ]
  },
  {
   "cell_type": "markdown",
   "id": "e8a84e61",
   "metadata": {},
   "source": [
    "# Kolom Cabin"
   ]
  },
  {
   "cell_type": "markdown",
   "id": "fde8d3d2",
   "metadata": {},
   "source": [
    "<p style='text-align: justify;'>  Kolom Cabin merupakan kolom yang paling banyak memiliki nilai kosong atau missing value yaitu sebanyak 687. Dikarenakan jumlah missing value pada data ini telah mencapai angka lebih dari 70% maka pada penelitian saat ini penulis memutuskan untuk menghapus variabel kabin dan tidak memasukkan variabel tersebut sebagai bagian analisis. </p>"
   ]
  },
  {
   "cell_type": "code",
   "execution_count": 323,
   "id": "e519532c",
   "metadata": {},
   "outputs": [],
   "source": [
    "titanic = titanic.drop(columns=['Cabin'])"
   ]
  },
  {
   "cell_type": "markdown",
   "id": "15f9d67c",
   "metadata": {},
   "source": [
    "# Kolom Embarked"
   ]
  },
  {
   "cell_type": "markdown",
   "id": "9c4fdad9",
   "metadata": {},
   "source": [
    "Pada kolom Embarked terdapat dua *missing value*, karena jumlahnya yang relatif kecil, penulis akan menyisipkan nilai kosong tersebut dengan nilai terbanyak (modus) dari kolom Embarked sendiri yaitu \"S\" atau Southampton"
   ]
  },
  {
   "cell_type": "code",
   "execution_count": 324,
   "id": "e15449d5",
   "metadata": {},
   "outputs": [
    {
     "data": {
      "text/plain": [
       "'S'"
      ]
     },
     "execution_count": 324,
     "metadata": {},
     "output_type": "execute_result"
    }
   ],
   "source": [
    "mode = titanic[\"Embarked\"].dropna().mode()[0]\n",
    "mode"
   ]
  },
  {
   "cell_type": "code",
   "execution_count": 325,
   "id": "3b76c85f",
   "metadata": {},
   "outputs": [],
   "source": [
    "titanic[\"Embarked\"].fillna(mode, inplace = True)"
   ]
  },
  {
   "cell_type": "code",
   "execution_count": 326,
   "id": "185c0bc5",
   "metadata": {},
   "outputs": [
    {
     "data": {
      "text/plain": [
       "<AxesSubplot:>"
      ]
     },
     "execution_count": 326,
     "metadata": {},
     "output_type": "execute_result"
    },
    {
     "data": {
      "image/png": "[encoded data removed]",
      "text/plain": [
       "<Figure size 1080x504 with 1 Axes>"
      ]
     },
     "metadata": {
      "needs_background": "light"
     },
     "output_type": "display_data"
    }
   ],
   "source": [
    "plt.figure(figsize=(15, 7))\n",
    "sns.heatmap(titanic.isnull(),yticklabels=False,cbar=False)"
   ]
  },
  {
   "cell_type": "code",
   "execution_count": 327,
   "id": "fd929508",
   "metadata": {},
   "outputs": [
    {
     "name": "stdout",
     "output_type": "stream",
     "text": [
      "PassengerId    0\n",
      "Survived       0\n",
      "Pclass         0\n",
      "Name           0\n",
      "Sex            0\n",
      "Age            0\n",
      "SibSp          0\n",
      "Parch          0\n",
      "Ticket         0\n",
      "Fare           0\n",
      "Embarked       0\n",
      "dtype: int64\n",
      "(891, 11)\n"
     ]
    }
   ],
   "source": [
    "print(titanic.isnull().sum())\n",
    "print(titanic.shape)"
   ]
  },
  {
   "cell_type": "markdown",
   "id": "a189da01",
   "metadata": {},
   "source": [
    "Seluruh *missing value* telah ditangani sehingga saat ini tidak ada variabel yang memiliki nilai kosong. Selain itu karena pada tahap sebelumnya kolom Cabin telah dihilangkan, kini total kolom berjumlah 11."
   ]
  },
  {
   "cell_type": "markdown",
   "id": "d1dbba44",
   "metadata": {},
   "source": [
    "# Deskripsi Data"
   ]
  },
  {
   "cell_type": "code",
   "execution_count": 280,
   "id": "1fea09f7",
   "metadata": {},
   "outputs": [
    {
     "data": {
      "text/html": [
       "<div>\n",
       "<style scoped>\n",
       "    .dataframe tbody tr th:only-of-type {\n",
       "        vertical-align: middle;\n",
       "    }\n",
       "\n",
       "    .dataframe tbody tr th {\n",
       "        vertical-align: top;\n",
       "    }\n",
       "\n",
       "    .dataframe thead th {\n",
       "        text-align: right;\n",
       "    }\n",
       "</style>\n",
       "<table border=\"1\" class=\"dataframe\">\n",
       "  <thead>\n",
       "    <tr style=\"text-align: right;\">\n",
       "      <th></th>\n",
       "      <th>count</th>\n",
       "      <th>mean</th>\n",
       "      <th>std</th>\n",
       "      <th>min</th>\n",
       "      <th>25%</th>\n",
       "      <th>50%</th>\n",
       "      <th>75%</th>\n",
       "      <th>max</th>\n",
       "    </tr>\n",
       "  </thead>\n",
       "  <tbody>\n",
       "    <tr>\n",
       "      <th>PassengerId</th>\n",
       "      <td>891.0</td>\n",
       "      <td>446.000000</td>\n",
       "      <td>257.353842</td>\n",
       "      <td>1.00</td>\n",
       "      <td>223.5000</td>\n",
       "      <td>446.0000</td>\n",
       "      <td>668.5</td>\n",
       "      <td>891.0000</td>\n",
       "    </tr>\n",
       "    <tr>\n",
       "      <th>Survived</th>\n",
       "      <td>891.0</td>\n",
       "      <td>0.383838</td>\n",
       "      <td>0.486592</td>\n",
       "      <td>0.00</td>\n",
       "      <td>0.0000</td>\n",
       "      <td>0.0000</td>\n",
       "      <td>1.0</td>\n",
       "      <td>1.0000</td>\n",
       "    </tr>\n",
       "    <tr>\n",
       "      <th>Pclass</th>\n",
       "      <td>891.0</td>\n",
       "      <td>2.308642</td>\n",
       "      <td>0.836071</td>\n",
       "      <td>1.00</td>\n",
       "      <td>2.0000</td>\n",
       "      <td>3.0000</td>\n",
       "      <td>3.0</td>\n",
       "      <td>3.0000</td>\n",
       "    </tr>\n",
       "    <tr>\n",
       "      <th>Age</th>\n",
       "      <td>891.0</td>\n",
       "      <td>29.361582</td>\n",
       "      <td>13.019697</td>\n",
       "      <td>0.42</td>\n",
       "      <td>22.0000</td>\n",
       "      <td>28.0000</td>\n",
       "      <td>35.0</td>\n",
       "      <td>80.0000</td>\n",
       "    </tr>\n",
       "    <tr>\n",
       "      <th>SibSp</th>\n",
       "      <td>891.0</td>\n",
       "      <td>0.523008</td>\n",
       "      <td>1.102743</td>\n",
       "      <td>0.00</td>\n",
       "      <td>0.0000</td>\n",
       "      <td>0.0000</td>\n",
       "      <td>1.0</td>\n",
       "      <td>8.0000</td>\n",
       "    </tr>\n",
       "    <tr>\n",
       "      <th>Parch</th>\n",
       "      <td>891.0</td>\n",
       "      <td>0.381594</td>\n",
       "      <td>0.806057</td>\n",
       "      <td>0.00</td>\n",
       "      <td>0.0000</td>\n",
       "      <td>0.0000</td>\n",
       "      <td>0.0</td>\n",
       "      <td>6.0000</td>\n",
       "    </tr>\n",
       "    <tr>\n",
       "      <th>Fare</th>\n",
       "      <td>891.0</td>\n",
       "      <td>32.204208</td>\n",
       "      <td>49.693429</td>\n",
       "      <td>0.00</td>\n",
       "      <td>7.9104</td>\n",
       "      <td>14.4542</td>\n",
       "      <td>31.0</td>\n",
       "      <td>512.3292</td>\n",
       "    </tr>\n",
       "  </tbody>\n",
       "</table>\n",
       "</div>"
      ],
      "text/plain": [
       "             count        mean         std   min       25%       50%    75%  \\\n",
       "PassengerId  891.0  446.000000  257.353842  1.00  223.5000  446.0000  668.5   \n",
       "Survived     891.0    0.383838    0.486592  0.00    0.0000    0.0000    1.0   \n",
       "Pclass       891.0    2.308642    0.836071  1.00    2.0000    3.0000    3.0   \n",
       "Age          891.0   29.361582   13.019697  0.42   22.0000   28.0000   35.0   \n",
       "SibSp        891.0    0.523008    1.102743  0.00    0.0000    0.0000    1.0   \n",
       "Parch        891.0    0.381594    0.806057  0.00    0.0000    0.0000    0.0   \n",
       "Fare         891.0   32.204208   49.693429  0.00    7.9104   14.4542   31.0   \n",
       "\n",
       "                  max  \n",
       "PassengerId  891.0000  \n",
       "Survived       1.0000  \n",
       "Pclass         3.0000  \n",
       "Age           80.0000  \n",
       "SibSp          8.0000  \n",
       "Parch          6.0000  \n",
       "Fare         512.3292  "
      ]
     },
     "execution_count": 280,
     "metadata": {},
     "output_type": "execute_result"
    }
   ],
   "source": [
    "titanic.describe().T"
   ]
  },
  {
   "cell_type": "markdown",
   "id": "e898b6d1",
   "metadata": {},
   "source": [
    "* Rata-rata penumpang selamat hanya sebesar 0.38 dari 1, sehingga peluang untuk selamat pun cukup bernilai kecil yaitu sebersar 38%.\n",
    "* Penumpang usia termuda ialah seorang bayi dengan usia hampir menginjak 5 bulan sementara penumpang tertua berusia 80 tahun."
   ]
  },
  {
   "cell_type": "code",
   "execution_count": 281,
   "id": "7070bb18",
   "metadata": {},
   "outputs": [
    {
     "data": {
      "text/html": [
       "<div>\n",
       "<style scoped>\n",
       "    .dataframe tbody tr th:only-of-type {\n",
       "        vertical-align: middle;\n",
       "    }\n",
       "\n",
       "    .dataframe tbody tr th {\n",
       "        vertical-align: top;\n",
       "    }\n",
       "\n",
       "    .dataframe thead th {\n",
       "        text-align: right;\n",
       "    }\n",
       "</style>\n",
       "<table border=\"1\" class=\"dataframe\">\n",
       "  <thead>\n",
       "    <tr style=\"text-align: right;\">\n",
       "      <th></th>\n",
       "      <th>PassengerId</th>\n",
       "      <th>Pclass</th>\n",
       "      <th>Age</th>\n",
       "      <th>SibSp</th>\n",
       "      <th>Parch</th>\n",
       "      <th>Fare</th>\n",
       "    </tr>\n",
       "    <tr>\n",
       "      <th>Survived</th>\n",
       "      <th></th>\n",
       "      <th></th>\n",
       "      <th></th>\n",
       "      <th></th>\n",
       "      <th></th>\n",
       "      <th></th>\n",
       "    </tr>\n",
       "  </thead>\n",
       "  <tbody>\n",
       "    <tr>\n",
       "      <th>0</th>\n",
       "      <td>447.016393</td>\n",
       "      <td>2.531876</td>\n",
       "      <td>30.028233</td>\n",
       "      <td>0.553734</td>\n",
       "      <td>0.329690</td>\n",
       "      <td>22.117887</td>\n",
       "    </tr>\n",
       "    <tr>\n",
       "      <th>1</th>\n",
       "      <td>444.368421</td>\n",
       "      <td>1.950292</td>\n",
       "      <td>28.291433</td>\n",
       "      <td>0.473684</td>\n",
       "      <td>0.464912</td>\n",
       "      <td>48.395408</td>\n",
       "    </tr>\n",
       "  </tbody>\n",
       "</table>\n",
       "</div>"
      ],
      "text/plain": [
       "          PassengerId    Pclass        Age     SibSp     Parch       Fare\n",
       "Survived                                                                 \n",
       "0          447.016393  2.531876  30.028233  0.553734  0.329690  22.117887\n",
       "1          444.368421  1.950292  28.291433  0.473684  0.464912  48.395408"
      ]
     },
     "execution_count": 281,
     "metadata": {},
     "output_type": "execute_result"
    }
   ],
   "source": [
    "titanic.groupby('Survived').mean()"
   ]
  },
  {
   "cell_type": "markdown",
   "id": "9f2eccbb",
   "metadata": {},
   "source": [
    "* Usia penumpang yang selamat rata-rata umurnya adalah 28 sedangkan yang tidak selamat adalah 30\n",
    "* Rata-rata kelas penumpang yang selamat berada pada kelas 1 sedangka yang tidak selamat rata-rata berasal dari kelas 2.\n",
    "* Nampaknya semakin tinggi tarif penumpang maka semakin tinggi pula probabilitas untuk selamat."
   ]
  },
  {
   "cell_type": "code",
   "execution_count": 282,
   "id": "58f1978f",
   "metadata": {},
   "outputs": [
    {
     "data": {
      "text/plain": [
       "Text(0.5, 1.0, 'Kemungkinan Penumpang Selamat berdasarkan Tarif\\nSemakin tinggi tarif kemungkinan selamat semakin tinggi')"
      ]
     },
     "execution_count": 282,
     "metadata": {},
     "output_type": "execute_result"
    },
    {
     "data": {
      "image/png": "[encoded data removed]",
      "text/plain": [
       "<Figure size 432x288 with 1 Axes>"
      ]
     },
     "metadata": {
      "needs_background": "light"
     },
     "output_type": "display_data"
    }
   ],
   "source": [
    "#Memecah kelompok Fare menjadi empat bagian\n",
    "titanic['Fare_Range'] = pd.qcut(titanic['Fare'], 3)\n",
    "sns.barplot(x ='Fare_Range', y ='Survived',\n",
    "data = titanic, palette='pink')\n",
    "plt.title('Kemungkinan Penumpang Selamat berdasarkan Tarif\\n' + 'Semakin tinggi tarif kemungkinan selamat semakin tinggi')"
   ]
  },
  {
   "cell_type": "markdown",
   "id": "7a314a59",
   "metadata": {},
   "source": [
    "# Embarked"
   ]
  },
  {
   "cell_type": "code",
   "execution_count": 283,
   "id": "84289b74",
   "metadata": {},
   "outputs": [
    {
     "data": {
      "text/html": [
       "<div>\n",
       "<style scoped>\n",
       "    .dataframe tbody tr th:only-of-type {\n",
       "        vertical-align: middle;\n",
       "    }\n",
       "\n",
       "    .dataframe tbody tr th {\n",
       "        vertical-align: top;\n",
       "    }\n",
       "\n",
       "    .dataframe thead th {\n",
       "        text-align: right;\n",
       "    }\n",
       "</style>\n",
       "<table border=\"1\" class=\"dataframe\">\n",
       "  <thead>\n",
       "    <tr style=\"text-align: right;\">\n",
       "      <th></th>\n",
       "      <th>Survived</th>\n",
       "    </tr>\n",
       "    <tr>\n",
       "      <th>Embarked</th>\n",
       "      <th></th>\n",
       "    </tr>\n",
       "  </thead>\n",
       "  <tbody>\n",
       "    <tr>\n",
       "      <th>S</th>\n",
       "      <td>0.339009</td>\n",
       "    </tr>\n",
       "    <tr>\n",
       "      <th>Q</th>\n",
       "      <td>0.389610</td>\n",
       "    </tr>\n",
       "    <tr>\n",
       "      <th>C</th>\n",
       "      <td>0.553571</td>\n",
       "    </tr>\n",
       "  </tbody>\n",
       "</table>\n",
       "</div>"
      ],
      "text/plain": [
       "          Survived\n",
       "Embarked          \n",
       "S         0.339009\n",
       "Q         0.389610\n",
       "C         0.553571"
      ]
     },
     "execution_count": 283,
     "metadata": {},
     "output_type": "execute_result"
    }
   ],
   "source": [
    "titanic[[\"Embarked\", \"Survived\"]].groupby(\"Embarked\").mean().sort_values(by=\"Survived\", ascending=True)"
   ]
  },
  {
   "cell_type": "code",
   "execution_count": 284,
   "id": "a4ad6c87",
   "metadata": {},
   "outputs": [
    {
     "data": {
      "text/plain": [
       "<AxesSubplot:xlabel='Embarked', ylabel='count'>"
      ]
     },
     "execution_count": 284,
     "metadata": {},
     "output_type": "execute_result"
    },
    {
     "data": {
      "image/png": "[encoded data removed]",
      "text/plain": [
       "<Figure size 432x288 with 1 Axes>"
      ]
     },
     "metadata": {
      "needs_background": "light"
     },
     "output_type": "display_data"
    }
   ],
   "source": [
    "#Embarked\n",
    "sns.countplot(x='Embarked', data = titanic, palette=\"rainbow\", hue='Survived', edgecolor='k')"
   ]
  },
  {
   "cell_type": "markdown",
   "id": "2fe432a0",
   "metadata": {},
   "source": [
    "<b> Berdasarkan tabel diatas penumpang yang memiliki persentase keselamatan paling tinggi ialah mereka yang berasal dari Cherbourg meski jumlah terbanyak ialah berasal dari Southampton. <b/>"
   ]
  },
  {
   "cell_type": "markdown",
   "id": "8c20118a",
   "metadata": {},
   "source": [
    "# Feature engineering"
   ]
  },
  {
   "cell_type": "markdown",
   "id": "5f5b1dba",
   "metadata": {},
   "source": [
    "Setiap penumpang dalam data Titanic memiliki sebutan (title : Mr, Mrs., dan sebagainya) yang dapat diolah menjadi:"
   ]
  },
  {
   "cell_type": "code",
   "execution_count": 285,
   "id": "bb00049c",
   "metadata": {},
   "outputs": [],
   "source": [
    "titanic['Title']=0\n",
    "for i in titanic:\n",
    "    titanic['Title']=titanic['Name'].str.extract('([A-Za-z]+)\\.', expand=False)  "
   ]
  },
  {
   "cell_type": "code",
   "execution_count": 286,
   "id": "d4e70977",
   "metadata": {},
   "outputs": [
    {
     "data": {
      "text/plain": [
       "Mr          517\n",
       "Miss        182\n",
       "Mrs         125\n",
       "Master       40\n",
       "Dr            7\n",
       "Rev           6\n",
       "Col           2\n",
       "Major         2\n",
       "Mlle          2\n",
       "Sir           1\n",
       "Ms            1\n",
       "Lady          1\n",
       "Don           1\n",
       "Capt          1\n",
       "Countess      1\n",
       "Jonkheer      1\n",
       "Mme           1\n",
       "Name: Title, dtype: int64"
      ]
     },
     "execution_count": 286,
     "metadata": {},
     "output_type": "execute_result"
    }
   ],
   "source": [
    "titanic['Title'].value_counts()"
   ]
  },
  {
   "cell_type": "markdown",
   "id": "1086d01e",
   "metadata": {},
   "source": [
    "<b> Lebih dari 50% penumpang ialah bergender laki-laki / pria."
   ]
  },
  {
   "cell_type": "code",
   "execution_count": 287,
   "id": "9b005a31",
   "metadata": {},
   "outputs": [
    {
     "data": {
      "text/html": [
       "<div>\n",
       "<style scoped>\n",
       "    .dataframe tbody tr th:only-of-type {\n",
       "        vertical-align: middle;\n",
       "    }\n",
       "\n",
       "    .dataframe tbody tr th {\n",
       "        vertical-align: top;\n",
       "    }\n",
       "\n",
       "    .dataframe thead th {\n",
       "        text-align: right;\n",
       "    }\n",
       "</style>\n",
       "<table border=\"1\" class=\"dataframe\">\n",
       "  <thead>\n",
       "    <tr style=\"text-align: right;\">\n",
       "      <th></th>\n",
       "      <th>Age</th>\n",
       "    </tr>\n",
       "    <tr>\n",
       "      <th>Title</th>\n",
       "      <th></th>\n",
       "    </tr>\n",
       "  </thead>\n",
       "  <tbody>\n",
       "    <tr>\n",
       "      <th>Master</th>\n",
       "      <td>6.916750</td>\n",
       "    </tr>\n",
       "    <tr>\n",
       "      <th>Miss</th>\n",
       "      <td>23.005495</td>\n",
       "    </tr>\n",
       "    <tr>\n",
       "      <th>Mlle</th>\n",
       "      <td>24.000000</td>\n",
       "    </tr>\n",
       "    <tr>\n",
       "      <th>Mme</th>\n",
       "      <td>24.000000</td>\n",
       "    </tr>\n",
       "    <tr>\n",
       "      <th>Ms</th>\n",
       "      <td>28.000000</td>\n",
       "    </tr>\n",
       "    <tr>\n",
       "      <th>Mr</th>\n",
       "      <td>31.362669</td>\n",
       "    </tr>\n",
       "    <tr>\n",
       "      <th>Countess</th>\n",
       "      <td>33.000000</td>\n",
       "    </tr>\n",
       "    <tr>\n",
       "      <th>Mrs</th>\n",
       "      <td>34.824000</td>\n",
       "    </tr>\n",
       "    <tr>\n",
       "      <th>Jonkheer</th>\n",
       "      <td>38.000000</td>\n",
       "    </tr>\n",
       "    <tr>\n",
       "      <th>Don</th>\n",
       "      <td>40.000000</td>\n",
       "    </tr>\n",
       "    <tr>\n",
       "      <th>Dr</th>\n",
       "      <td>40.000000</td>\n",
       "    </tr>\n",
       "    <tr>\n",
       "      <th>Rev</th>\n",
       "      <td>43.166667</td>\n",
       "    </tr>\n",
       "    <tr>\n",
       "      <th>Lady</th>\n",
       "      <td>48.000000</td>\n",
       "    </tr>\n",
       "    <tr>\n",
       "      <th>Major</th>\n",
       "      <td>48.500000</td>\n",
       "    </tr>\n",
       "    <tr>\n",
       "      <th>Sir</th>\n",
       "      <td>49.000000</td>\n",
       "    </tr>\n",
       "    <tr>\n",
       "      <th>Col</th>\n",
       "      <td>58.000000</td>\n",
       "    </tr>\n",
       "    <tr>\n",
       "      <th>Capt</th>\n",
       "      <td>70.000000</td>\n",
       "    </tr>\n",
       "  </tbody>\n",
       "</table>\n",
       "</div>"
      ],
      "text/plain": [
       "                Age\n",
       "Title              \n",
       "Master     6.916750\n",
       "Miss      23.005495\n",
       "Mlle      24.000000\n",
       "Mme       24.000000\n",
       "Ms        28.000000\n",
       "Mr        31.362669\n",
       "Countess  33.000000\n",
       "Mrs       34.824000\n",
       "Jonkheer  38.000000\n",
       "Don       40.000000\n",
       "Dr        40.000000\n",
       "Rev       43.166667\n",
       "Lady      48.000000\n",
       "Major     48.500000\n",
       "Sir       49.000000\n",
       "Col       58.000000\n",
       "Capt      70.000000"
      ]
     },
     "execution_count": 287,
     "metadata": {},
     "output_type": "execute_result"
    }
   ],
   "source": [
    "titanic[[\"Title\", \"Age\"]].groupby(['Title']).mean().sort_values(by=\"Age\", ascending=True)"
   ]
  },
  {
   "cell_type": "markdown",
   "id": "6d04ec8e",
   "metadata": {},
   "source": [
    "* Mayoritas penumpang ialah bergender laki-laki dengan rata-rata usia 31 tahun.\n",
    "* Sebutan \"Master\" rata-rata digunakan bagi penumpang anak laki-laki berusia 6 tahun."
   ]
  },
  {
   "cell_type": "code",
   "execution_count": 288,
   "id": "5e47cafa",
   "metadata": {},
   "outputs": [],
   "source": [
    "titanic['Title']=titanic['Title'].replace([\"Dr\", \"Rev\", \"Col\", \"Major\", \"Lady\", \"Jonkheer\", \"Don\", \"Capt\", \"Countess\", \"Sir\", \"Dona\"],\"Rare\" )\n",
    "titanic['Title']=titanic['Title'].replace([\"Mlle\", \"Ms\"], \"Miss\")\n",
    "titanic[\"Title\"]=titanic[\"Title\"].replace(\"Mme\", \"Mrs\")"
   ]
  },
  {
   "cell_type": "code",
   "execution_count": 289,
   "id": "a0336bbc",
   "metadata": {},
   "outputs": [
    {
     "data": {
      "text/plain": [
       "<AxesSubplot:xlabel='Title', ylabel='count'>"
      ]
     },
     "execution_count": 289,
     "metadata": {},
     "output_type": "execute_result"
    },
    {
     "data": {
      "image/png": "[encoded data removed]",
      "text/plain": [
       "<Figure size 432x288 with 1 Axes>"
      ]
     },
     "metadata": {
      "needs_background": "light"
     },
     "output_type": "display_data"
    }
   ],
   "source": [
    "sns.countplot(titanic[\"Title\"], palette=\"pink\", edgecolor='k')"
   ]
  },
  {
   "cell_type": "code",
   "execution_count": 290,
   "id": "656d84b2",
   "metadata": {},
   "outputs": [
    {
     "data": {
      "text/html": [
       "<div>\n",
       "<style scoped>\n",
       "    .dataframe tbody tr th:only-of-type {\n",
       "        vertical-align: middle;\n",
       "    }\n",
       "\n",
       "    .dataframe tbody tr th {\n",
       "        vertical-align: top;\n",
       "    }\n",
       "\n",
       "    .dataframe thead th {\n",
       "        text-align: right;\n",
       "    }\n",
       "</style>\n",
       "<table border=\"1\" class=\"dataframe\">\n",
       "  <thead>\n",
       "    <tr style=\"text-align: right;\">\n",
       "      <th></th>\n",
       "      <th>Survived</th>\n",
       "    </tr>\n",
       "    <tr>\n",
       "      <th>Title</th>\n",
       "      <th></th>\n",
       "    </tr>\n",
       "  </thead>\n",
       "  <tbody>\n",
       "    <tr>\n",
       "      <th>Mr</th>\n",
       "      <td>0.156673</td>\n",
       "    </tr>\n",
       "    <tr>\n",
       "      <th>Rare</th>\n",
       "      <td>0.347826</td>\n",
       "    </tr>\n",
       "    <tr>\n",
       "      <th>Master</th>\n",
       "      <td>0.575000</td>\n",
       "    </tr>\n",
       "    <tr>\n",
       "      <th>Miss</th>\n",
       "      <td>0.702703</td>\n",
       "    </tr>\n",
       "    <tr>\n",
       "      <th>Mrs</th>\n",
       "      <td>0.793651</td>\n",
       "    </tr>\n",
       "  </tbody>\n",
       "</table>\n",
       "</div>"
      ],
      "text/plain": [
       "        Survived\n",
       "Title           \n",
       "Mr      0.156673\n",
       "Rare    0.347826\n",
       "Master  0.575000\n",
       "Miss    0.702703\n",
       "Mrs     0.793651"
      ]
     },
     "execution_count": 290,
     "metadata": {},
     "output_type": "execute_result"
    }
   ],
   "source": [
    "#mean survival by name title\n",
    "\n",
    "titanic[[\"Title\", \"Survived\"]].groupby(['Title']).mean().sort_values(by=\"Survived\", ascending=True)"
   ]
  },
  {
   "cell_type": "markdown",
   "id": "4400d3e8",
   "metadata": {},
   "source": [
    "<b> Penumpang wanita cenderung memiliki persentase keselamatan yang lebih besar (Miss = 0.7 dan Mrs = 0.79). <b/>"
   ]
  },
  {
   "cell_type": "markdown",
   "id": "46359b42",
   "metadata": {},
   "source": [
    "# Kerabat Penumpang\n"
   ]
  },
  {
   "cell_type": "markdown",
   "id": "0ec1bb01",
   "metadata": {},
   "source": [
    "Melalui variabel Sibsp dan Parch dapat dibentuk suatu variabel baru yang menandakan jumlah rombongan keluarga yang dibawa oleh seorang penumpang."
   ]
  },
  {
   "cell_type": "code",
   "execution_count": 291,
   "id": "23fffca7",
   "metadata": {},
   "outputs": [
    {
     "data": {
      "text/html": [
       "<div>\n",
       "<style scoped>\n",
       "    .dataframe tbody tr th:only-of-type {\n",
       "        vertical-align: middle;\n",
       "    }\n",
       "\n",
       "    .dataframe tbody tr th {\n",
       "        vertical-align: top;\n",
       "    }\n",
       "\n",
       "    .dataframe thead th {\n",
       "        text-align: right;\n",
       "    }\n",
       "</style>\n",
       "<table border=\"1\" class=\"dataframe\">\n",
       "  <thead>\n",
       "    <tr style=\"text-align: right;\">\n",
       "      <th></th>\n",
       "      <th>SibSp</th>\n",
       "      <th>Parch</th>\n",
       "      <th>Family</th>\n",
       "    </tr>\n",
       "  </thead>\n",
       "  <tbody>\n",
       "    <tr>\n",
       "      <th>0</th>\n",
       "      <td>1</td>\n",
       "      <td>0</td>\n",
       "      <td>2</td>\n",
       "    </tr>\n",
       "    <tr>\n",
       "      <th>1</th>\n",
       "      <td>1</td>\n",
       "      <td>0</td>\n",
       "      <td>2</td>\n",
       "    </tr>\n",
       "    <tr>\n",
       "      <th>2</th>\n",
       "      <td>0</td>\n",
       "      <td>0</td>\n",
       "      <td>1</td>\n",
       "    </tr>\n",
       "    <tr>\n",
       "      <th>3</th>\n",
       "      <td>1</td>\n",
       "      <td>0</td>\n",
       "      <td>2</td>\n",
       "    </tr>\n",
       "    <tr>\n",
       "      <th>4</th>\n",
       "      <td>0</td>\n",
       "      <td>0</td>\n",
       "      <td>1</td>\n",
       "    </tr>\n",
       "    <tr>\n",
       "      <th>5</th>\n",
       "      <td>0</td>\n",
       "      <td>0</td>\n",
       "      <td>1</td>\n",
       "    </tr>\n",
       "    <tr>\n",
       "      <th>6</th>\n",
       "      <td>0</td>\n",
       "      <td>0</td>\n",
       "      <td>1</td>\n",
       "    </tr>\n",
       "    <tr>\n",
       "      <th>7</th>\n",
       "      <td>3</td>\n",
       "      <td>1</td>\n",
       "      <td>5</td>\n",
       "    </tr>\n",
       "    <tr>\n",
       "      <th>8</th>\n",
       "      <td>0</td>\n",
       "      <td>2</td>\n",
       "      <td>3</td>\n",
       "    </tr>\n",
       "    <tr>\n",
       "      <th>9</th>\n",
       "      <td>1</td>\n",
       "      <td>0</td>\n",
       "      <td>2</td>\n",
       "    </tr>\n",
       "  </tbody>\n",
       "</table>\n",
       "</div>"
      ],
      "text/plain": [
       "   SibSp  Parch  Family\n",
       "0      1      0       2\n",
       "1      1      0       2\n",
       "2      0      0       1\n",
       "3      1      0       2\n",
       "4      0      0       1\n",
       "5      0      0       1\n",
       "6      0      0       1\n",
       "7      3      1       5\n",
       "8      0      2       3\n",
       "9      1      0       2"
      ]
     },
     "execution_count": 291,
     "metadata": {},
     "output_type": "execute_result"
    }
   ],
   "source": [
    "titanic['Family']=titanic['SibSp']+titanic[\"Parch\"] +1\n",
    "titanic[[\"SibSp\", \"Parch\", \"Family\"]].head(10)"
   ]
  },
  {
   "cell_type": "code",
   "execution_count": 292,
   "id": "b464e1a2",
   "metadata": {},
   "outputs": [
    {
     "data": {
      "text/html": [
       "<div>\n",
       "<style scoped>\n",
       "    .dataframe tbody tr th:only-of-type {\n",
       "        vertical-align: middle;\n",
       "    }\n",
       "\n",
       "    .dataframe tbody tr th {\n",
       "        vertical-align: top;\n",
       "    }\n",
       "\n",
       "    .dataframe thead th {\n",
       "        text-align: right;\n",
       "    }\n",
       "</style>\n",
       "<table border=\"1\" class=\"dataframe\">\n",
       "  <thead>\n",
       "    <tr style=\"text-align: right;\">\n",
       "      <th></th>\n",
       "      <th>Survived</th>\n",
       "    </tr>\n",
       "    <tr>\n",
       "      <th>Family</th>\n",
       "      <th></th>\n",
       "    </tr>\n",
       "  </thead>\n",
       "  <tbody>\n",
       "    <tr>\n",
       "      <th>8</th>\n",
       "      <td>0.000000</td>\n",
       "    </tr>\n",
       "    <tr>\n",
       "      <th>11</th>\n",
       "      <td>0.000000</td>\n",
       "    </tr>\n",
       "    <tr>\n",
       "      <th>6</th>\n",
       "      <td>0.136364</td>\n",
       "    </tr>\n",
       "    <tr>\n",
       "      <th>5</th>\n",
       "      <td>0.200000</td>\n",
       "    </tr>\n",
       "    <tr>\n",
       "      <th>1</th>\n",
       "      <td>0.303538</td>\n",
       "    </tr>\n",
       "    <tr>\n",
       "      <th>7</th>\n",
       "      <td>0.333333</td>\n",
       "    </tr>\n",
       "    <tr>\n",
       "      <th>2</th>\n",
       "      <td>0.552795</td>\n",
       "    </tr>\n",
       "    <tr>\n",
       "      <th>3</th>\n",
       "      <td>0.578431</td>\n",
       "    </tr>\n",
       "    <tr>\n",
       "      <th>4</th>\n",
       "      <td>0.724138</td>\n",
       "    </tr>\n",
       "  </tbody>\n",
       "</table>\n",
       "</div>"
      ],
      "text/plain": [
       "        Survived\n",
       "Family          \n",
       "8       0.000000\n",
       "11      0.000000\n",
       "6       0.136364\n",
       "5       0.200000\n",
       "1       0.303538\n",
       "7       0.333333\n",
       "2       0.552795\n",
       "3       0.578431\n",
       "4       0.724138"
      ]
     },
     "execution_count": 292,
     "metadata": {},
     "output_type": "execute_result"
    }
   ],
   "source": [
    "titanic[[\"Family\", \"Survived\"]].groupby(\"Family\").mean().sort_values(by=\"Survived\", ascending=True)"
   ]
  },
  {
   "cell_type": "markdown",
   "id": "91f0d443",
   "metadata": {},
   "source": [
    "<b> Seseorang yang pergi dengan jumlah kerabat 4 memiliki persentase keselamatan yang lebih tinggi dibandingkan yang lain (0.7) <b/>\n",
    "    \n",
    "<b> Penumpang yang pergi dengan jumlah kerabat 8 dan 11 (sudah termasuk peumpang itu) tidak ada yang selamat."
   ]
  },
  {
   "cell_type": "code",
   "execution_count": 307,
   "id": "ff5744ab",
   "metadata": {},
   "outputs": [],
   "source": [
    "# Penumpang sendiri dibandingkan dengan Penumpang yang berkelompok\n",
    "\n",
    "titanic[\"Sendiri\"]=0\n",
    "titanic.loc[titanic[\"Family\"]==1, \"Sendiri\"]= 1"
   ]
  },
  {
   "cell_type": "code",
   "execution_count": 308,
   "id": "37f97f90",
   "metadata": {},
   "outputs": [
    {
     "data": {
      "text/html": [
       "<div>\n",
       "<style scoped>\n",
       "    .dataframe tbody tr th:only-of-type {\n",
       "        vertical-align: middle;\n",
       "    }\n",
       "\n",
       "    .dataframe tbody tr th {\n",
       "        vertical-align: top;\n",
       "    }\n",
       "\n",
       "    .dataframe thead th {\n",
       "        text-align: right;\n",
       "    }\n",
       "</style>\n",
       "<table border=\"1\" class=\"dataframe\">\n",
       "  <thead>\n",
       "    <tr style=\"text-align: right;\">\n",
       "      <th></th>\n",
       "      <th>Survived</th>\n",
       "    </tr>\n",
       "    <tr>\n",
       "      <th>Sendiri</th>\n",
       "      <th></th>\n",
       "    </tr>\n",
       "  </thead>\n",
       "  <tbody>\n",
       "    <tr>\n",
       "      <th>0</th>\n",
       "      <td>0.505650</td>\n",
       "    </tr>\n",
       "    <tr>\n",
       "      <th>1</th>\n",
       "      <td>0.303538</td>\n",
       "    </tr>\n",
       "  </tbody>\n",
       "</table>\n",
       "</div>"
      ],
      "text/plain": [
       "         Survived\n",
       "Sendiri          \n",
       "0        0.505650\n",
       "1        0.303538"
      ]
     },
     "execution_count": 308,
     "metadata": {},
     "output_type": "execute_result"
    }
   ],
   "source": [
    "titanic[[\"Sendiri\", \"Survived\"]].groupby(\"Sendiri\").mean()"
   ]
  },
  {
   "cell_type": "markdown",
   "id": "44932365",
   "metadata": {},
   "source": [
    "<b> Penumpang yang berpergian bersama kerabat memiliki persentase keselamatan yang lebih tinggi dibandingkan mereka yang berpergian sendiri <b/>"
   ]
  },
  {
   "cell_type": "markdown",
   "id": "e5a69af8",
   "metadata": {},
   "source": [
    "# Visualisasi Dari Setiap Kolom serta hubungannya dengan \"Survived\""
   ]
  },
  {
   "cell_type": "markdown",
   "id": "0de11734",
   "metadata": {},
   "source": [
    "# Pclass"
   ]
  },
  {
   "cell_type": "code",
   "execution_count": 135,
   "id": "5c16695a",
   "metadata": {},
   "outputs": [
    {
     "name": "stdout",
     "output_type": "stream",
     "text": [
      "Kelas pertama: 216\n",
      "Kelas kedua: 184\n",
      "Kelas ketiga: 491\n"
     ]
    }
   ],
   "source": [
    "first = titanic[\"Pclass\"].value_counts()[1]\n",
    "second = titanic[\"Pclass\"].value_counts()[2]\n",
    "third = titanic[\"Pclass\"].value_counts()[3]\n",
    "\n",
    "print(\"Kelas pertama:\", first)\n",
    "print(\"Kelas kedua:\", second)\n",
    "print(\"Kelas ketiga:\", third)"
   ]
  },
  {
   "cell_type": "code",
   "execution_count": 136,
   "id": "fee8d40c",
   "metadata": {},
   "outputs": [
    {
     "data": {
      "image/png": "[encoded data removed]",
      "text/plain": [
       "<Figure size 432x288 with 1 Axes>"
      ]
     },
     "metadata": {},
     "output_type": "display_data"
    },
    {
     "data": {
      "text/plain": [
       "<AxesSubplot:title={'center':'Jumlah penumpang yang selamat berdasarkan kelas\\n'}, xlabel='Pclass', ylabel='count'>"
      ]
     },
     "execution_count": 136,
     "metadata": {},
     "output_type": "execute_result"
    },
    {
     "data": {
      "image/png": "[encoded data removed]",
      "text/plain": [
       "<Figure size 432x288 with 1 Axes>"
      ]
     },
     "metadata": {
      "needs_background": "light"
     },
     "output_type": "display_data"
    }
   ],
   "source": [
    "\n",
    "data = [216,184,491]\n",
    "labels = ['Kelas 1 = 216 penumpnag', 'Kelas 2 = 184 penumpa', 'Kelas 3 = 491']\n",
    "\n",
    "colors = sns.color_palette('rainbow')[0:5]\n",
    "plt.title(\"Jumlah Kelas Penumpang\")\n",
    "plt.pie(data, labels = labels, colors = colors, autopct='%.0f%%')\n",
    "plt.show()\n",
    "\n",
    "plt.title(\"Jumlah penumpang yang selamat berdasarkan kelas\\n\")\n",
    "sns.countplot(x='Pclass', data = titanic, palette=\"rainbow\", hue='Survived')"
   ]
  },
  {
   "cell_type": "markdown",
   "id": "48dc7326",
   "metadata": {},
   "source": [
    "<b> Meski jumlah penumpang pada kelas ke 3 ialah paling banyak akan tetapi jumlah kematian terbanyak ialah berasal dari kelas 3. Sebaliknya meski jumlah penumpang kelas 1 ialah paling sedikit akan tetapi jumlah keselamatan terbanyak ialah berasal dari kelas 1. </b> "
   ]
  },
  {
   "cell_type": "markdown",
   "id": "e5e476b2",
   "metadata": {},
   "source": [
    "# Sex"
   ]
  },
  {
   "cell_type": "code",
   "execution_count": 137,
   "id": "66056496",
   "metadata": {},
   "outputs": [
    {
     "name": "stdout",
     "output_type": "stream",
     "text": [
      "Jumlah wanita: 314\n",
      "Jumlah pria: 577\n"
     ]
    },
    {
     "data": {
      "image/png": "[encoded data removed]",
      "text/plain": [
       "<Figure size 432x288 with 1 Axes>"
      ]
     },
     "metadata": {},
     "output_type": "display_data"
    },
    {
     "data": {
      "text/plain": [
       "<AxesSubplot:title={'center':'Jumlah penumpang yang selamat berdasarkan kelas\\n'}, xlabel='Sex', ylabel='count'>"
      ]
     },
     "execution_count": 137,
     "metadata": {},
     "output_type": "execute_result"
    },
    {
     "data": {
      "image/png": "[encoded data removed]",
      "text/plain": [
       "<Figure size 432x288 with 1 Axes>"
      ]
     },
     "metadata": {
      "needs_background": "light"
     },
     "output_type": "display_data"
    }
   ],
   "source": [
    "female = titanic[\"Sex\"].value_counts()[\"female\"]\n",
    "male= titanic[\"Sex\"].value_counts()['male']\n",
    "\n",
    "print(\"Jumlah wanita:\", female)\n",
    "print(\"Jumlah pria:\", male)\n",
    "\n",
    "data = [314,577]\n",
    "labels = ['Penumpang Wanita = 314', 'Penumpang Pria = 577']\n",
    "colors = sns.color_palette('rainbow')[0:5]\n",
    "plt.title(\"Jumlah penumpang pria dan wanita\")\n",
    "plt.pie(data, labels =labels, colors=colors,autopct='%.0f%%')\n",
    "plt.show()\n",
    "\n",
    "\n",
    "plt.title(\"Jumlah penumpang yang selamat berdasarkan kelas\\n\")\n",
    "sns.countplot(x='Sex', data = titanic, palette=\"rainbow\", hue='Survived')"
   ]
  },
  {
   "cell_type": "markdown",
   "id": "f9196232",
   "metadata": {},
   "source": [
    "<b> Meskipun penumpang laki-laki jauh lebih banyak, nyatanya bila dikaitkan dengan status keselamatan, penumpang wanitalah yang lebih banyak selamat dibandingkan penumpang pria.<b/>"
   ]
  },
  {
   "cell_type": "markdown",
   "id": "70c8326e",
   "metadata": {},
   "source": [
    "# Age"
   ]
  },
  {
   "cell_type": "code",
   "execution_count": 138,
   "id": "778bc92d",
   "metadata": {},
   "outputs": [
    {
     "data": {
      "text/plain": [
       "<AxesSubplot:xlabel='Age_group', ylabel='count'>"
      ]
     },
     "execution_count": 138,
     "metadata": {},
     "output_type": "execute_result"
    },
    {
     "data": {
      "image/png": "[encoded data removed]",
      "text/plain": [
       "<Figure size 432x288 with 1 Axes>"
      ]
     },
     "metadata": {
      "needs_background": "light"
     },
     "output_type": "display_data"
    }
   ],
   "source": [
    "kelompok_umur = ['0-9', '10-19', '20-29', '30-39', '40-49', '50-59', '60-69', '70-79']\n",
    "titanic['Age_group'] = pd.cut(titanic.Age, range(0, 81, 10), right = False, labels = kelompok_umur)\n",
    "\n",
    "sns.countplot(x ='Age_group',data = titanic, palette='cubehelix', edgecolor='k')"
   ]
  },
  {
   "cell_type": "markdown",
   "id": "1b65bcf6",
   "metadata": {},
   "source": [
    "* Bayi = 0 - 1 tahun\n",
    "* Anak- anak = 5 - 11 tahun\n",
    "* Remaja Awal = 12 – 16 tahun\n",
    "* Remaja Akhir = 17 - 25 tahun\n",
    "* Dewasa Awal = 26- 35 tahun\n",
    "* Dewasa Akhir = 36 - 45 tahun\n",
    "* Lansia Awal = 46 - 55 tahun\n",
    "* Lansia Akhir = 56 - 65 tahun\n",
    "* Manula = 65 – sampai seterusnya\n",
    "\n",
    "Kategori usia menurut Depkes RI (2009)"
   ]
  },
  {
   "cell_type": "markdown",
   "id": "e81e6056",
   "metadata": {},
   "source": [
    "Diagram batang diatas merupakan hasil visualisasi dari persebaran penumpang berdasarkan kategori usia. Penumpang dengan rentang usia 20-29 tahun paling banyak "
   ]
  },
  {
   "cell_type": "code",
   "execution_count": 139,
   "id": "1fb351b0",
   "metadata": {},
   "outputs": [
    {
     "data": {
      "text/plain": [
       "<AxesSubplot:xlabel='Age_group', ylabel='count'>"
      ]
     },
     "execution_count": 139,
     "metadata": {},
     "output_type": "execute_result"
    },
    {
     "data": {
      "image/png": "[encoded data removed]",
      "text/plain": [
       "<Figure size 432x288 with 1 Axes>"
      ]
     },
     "metadata": {
      "needs_background": "light"
     },
     "output_type": "display_data"
    }
   ],
   "source": [
    "#Hubungan usia dengan keselamatan\n",
    "sns.countplot(x='Age_group', data = titanic, palette=\"rainbow\", hue='Survived')"
   ]
  },
  {
   "cell_type": "markdown",
   "id": "03daa019",
   "metadata": {},
   "source": [
    "<b> Berdasarkan diagam diatas penumpang balita, anak-anak, remaja awal, remaja akhir, dewasa awal, dan dewasa akhir cenderung memiliki jumlah penumpang dengan tingkat keselamatan yang lebih tinggi<b/> "
   ]
  },
  {
   "cell_type": "markdown",
   "id": "10a9adf1",
   "metadata": {},
   "source": [
    "# Memeriksa Hubungan Antar variabel"
   ]
  },
  {
   "cell_type": "code",
   "execution_count": 140,
   "id": "5a0df36f",
   "metadata": {},
   "outputs": [
    {
     "data": {
      "text/plain": [
       "<AxesSubplot:>"
      ]
     },
     "execution_count": 140,
     "metadata": {},
     "output_type": "execute_result"
    },
    {
     "data": {
      "image/png": "[encoded data removed]",
      "text/plain": [
       "<Figure size 1440x576 with 2 Axes>"
      ]
     },
     "metadata": {
      "needs_background": "light"
     },
     "output_type": "display_data"
    }
   ],
   "source": [
    "plt.figure(figsize=(20,8))\n",
    "sns.heatmap(titanic.corr(), annot=True,cmap = \"summer\",linewidths=2,linecolor = \"white\",cbar=True,annot_kws={\"size\":18})"
   ]
  },
  {
   "cell_type": "markdown",
   "id": "1a7ee302",
   "metadata": {},
   "source": [
    "Diagram heatmap merupakan diagram yang di gunakan untuk mengetahui tingkat korelasi anatar variabel. Semakin mendekati angka 1 dan -1 maka tingkat hubungan akan semakin erat, begitu pula sebaliknya, semakin mendekati 0 (natural) maka korelasi variabel tersebut semakin kecil. Korelasi dalam heat map dibagi menjadi 2 yakni korelas positif dan korelasi negatif\n",
    "\n",
    "<b> Perlu di ingat bahwa hanya karena dua variabel memiliki korelasi, bukan berarti antara satu dengan yang lain saling mempegaruhi. </b>\n",
    "\n",
    "Dari diagram heatmap di atas dapat diketahui beberapa hal:\n",
    "\n",
    "\n",
    "Terdapat beberapa variabel yang memiliki korelasi kuat dibanding yang lain yaitu:<br><br>\n",
    "Korelasi Negatif:\n",
    "1. Pclass x Fare (-0.55) - Semakin besar angka kelas maka tarif penumpang cenderung kecil.\n",
    "2. Pclass x Survived (-0,35) - Semakin besar angka kelas maka jumlah penumpang selamat cenderung rendah.\n",
    "3. Age x Pclass (-0.34) - Semakin tua usia penumpang maka cenderung berada pada kelas dengan angka semakin kecil.\n",
    "\n",
    "Korelasi Positif:\n",
    "1. Parch x SibSp (0,41) - Semakin tinggi nilai Parch maka nilai SibSp cenderung semakin tinggi."
   ]
  },
  {
   "cell_type": "markdown",
   "id": "201ff67e",
   "metadata": {},
   "source": [
    "# Outliers"
   ]
  },
  {
   "cell_type": "code",
   "execution_count": 141,
   "id": "1713683d",
   "metadata": {},
   "outputs": [
    {
     "data": {
      "text/plain": [
       "PassengerId       AxesSubplot(0.125,0.657941;0.227941x0.222059)\n",
       "Survived       AxesSubplot(0.398529,0.657941;0.227941x0.222059)\n",
       "Pclass         AxesSubplot(0.672059,0.657941;0.227941x0.222059)\n",
       "Age               AxesSubplot(0.125,0.391471;0.227941x0.222059)\n",
       "SibSp          AxesSubplot(0.398529,0.391471;0.227941x0.222059)\n",
       "Parch          AxesSubplot(0.672059,0.391471;0.227941x0.222059)\n",
       "Fare                 AxesSubplot(0.125,0.125;0.227941x0.222059)\n",
       "Family            AxesSubplot(0.398529,0.125;0.227941x0.222059)\n",
       "IsAlone           AxesSubplot(0.672059,0.125;0.227941x0.222059)\n",
       "dtype: object"
      ]
     },
     "execution_count": 141,
     "metadata": {},
     "output_type": "execute_result"
    },
    {
     "data": {
      "image/png": "[encoded data removed]",
      "text/plain": [
       "<Figure size 1440x1080 with 9 Axes>"
      ]
     },
     "metadata": {
      "needs_background": "light"
     },
     "output_type": "display_data"
    }
   ],
   "source": [
    "titanic.plot(kind= 'box' , subplots=True, layout=(3,3), sharex=False, sharey=False, figsize=(20,15))"
   ]
  },
  {
   "cell_type": "markdown",
   "id": "aa78de70",
   "metadata": {},
   "source": [
    "Pada visualisasi di atas dapat dilihat bahwa jumlah pencilan terbanyak terdapat pada kolom Fare and Age, namun tidak dapat dipungkiri bahwa kolom SibSp dan Parch juga memiliki pencilan dengan jumlah yang lebih kecil."
   ]
  },
  {
   "cell_type": "markdown",
   "id": "c0202186",
   "metadata": {},
   "source": [
    "\n",
    "# Kolom Fare"
   ]
  },
  {
   "cell_type": "code",
   "execution_count": 142,
   "id": "dee95517",
   "metadata": {},
   "outputs": [],
   "source": [
    "#Flooring -> Data yang berada dibawah 25 persentil \n",
    "#Caping -> Data yang berada diatas 75 percentil\n",
    "\n",
    "Q1 = titanic['Fare'].quantile(0.25)\n",
    "Q3 = titanic['Fare'].quantile(0.75)\n",
    "IQR = Q3 - Q1\n",
    "whisker_width = 1.5\n",
    "lower_whisker = Q1 -(whisker_width*IQR)\n",
    "upper_whisker = Q3 + whisker_width*IQR\n",
    "titanic['Fare']=np.where(titanic['Fare']>upper_whisker,upper_whisker,np.where(titanic['Fare']<lower_whisker,lower_whisker,titanic['Fare']))\n"
   ]
  },
  {
   "cell_type": "code",
   "execution_count": 143,
   "id": "28b8e943",
   "metadata": {},
   "outputs": [
    {
     "data": {
      "text/plain": [
       "<AxesSubplot:xlabel='Fare'>"
      ]
     },
     "execution_count": 143,
     "metadata": {},
     "output_type": "execute_result"
    },
    {
     "data": {
      "image/png": "[encoded data removed]",
      "text/plain": [
       "<Figure size 432x288 with 1 Axes>"
      ]
     },
     "metadata": {
      "needs_background": "light"
     },
     "output_type": "display_data"
    }
   ],
   "source": [
    "sns.boxplot(titanic['Fare'],data=titanic)"
   ]
  },
  {
   "cell_type": "markdown",
   "id": "8c024ad2",
   "metadata": {},
   "source": [
    "# Kolom Age"
   ]
  },
  {
   "cell_type": "code",
   "execution_count": 144,
   "id": "3b7a198e",
   "metadata": {},
   "outputs": [],
   "source": [
    "#Flooring -> Data yang berada dibawah 25 persentil \n",
    "#Caping -> Data yang berada diatas 75 percentil\n",
    "\n",
    "Q1 = titanic['Age'].quantile(0.25)\n",
    "Q3 = titanic['Age'].quantile(0.75)\n",
    "IQR = Q3 - Q1\n",
    "whisker_width = 1.5\n",
    "lower_whisker = Q1 -(whisker_width*IQR)\n",
    "upper_whisker = Q3 + whisker_width*IQR\n",
    "titanic['Age']=np.where(titanic['Age']>upper_whisker,upper_whisker,np.where(titanic['Age']<lower_whisker,lower_whisker,titanic['Age']))"
   ]
  },
  {
   "cell_type": "code",
   "execution_count": 145,
   "id": "fa0fac51",
   "metadata": {},
   "outputs": [
    {
     "data": {
      "text/plain": [
       "PassengerId       AxesSubplot(0.125,0.657941;0.227941x0.222059)\n",
       "Survived       AxesSubplot(0.398529,0.657941;0.227941x0.222059)\n",
       "Pclass         AxesSubplot(0.672059,0.657941;0.227941x0.222059)\n",
       "Age               AxesSubplot(0.125,0.391471;0.227941x0.222059)\n",
       "SibSp          AxesSubplot(0.398529,0.391471;0.227941x0.222059)\n",
       "Parch          AxesSubplot(0.672059,0.391471;0.227941x0.222059)\n",
       "Fare                 AxesSubplot(0.125,0.125;0.227941x0.222059)\n",
       "Family            AxesSubplot(0.398529,0.125;0.227941x0.222059)\n",
       "IsAlone           AxesSubplot(0.672059,0.125;0.227941x0.222059)\n",
       "dtype: object"
      ]
     },
     "execution_count": 145,
     "metadata": {},
     "output_type": "execute_result"
    },
    {
     "data": {
      "image/png": "[encoded data removed]",
      "text/plain": [
       "<Figure size 1440x1080 with 9 Axes>"
      ]
     },
     "metadata": {
      "needs_background": "light"
     },
     "output_type": "display_data"
    }
   ],
   "source": [
    "titanic.plot(kind= 'box' , subplots=True, layout=(3,3), sharex=False, sharey=False, figsize=(20,15))"
   ]
  },
  {
   "cell_type": "code",
   "execution_count": 146,
   "id": "735c5cb0",
   "metadata": {},
   "outputs": [
    {
     "data": {
      "text/plain": [
       "<AxesSubplot:xlabel='Age'>"
      ]
     },
     "execution_count": 146,
     "metadata": {},
     "output_type": "execute_result"
    },
    {
     "data": {
      "image/png": "[encoded data removed]",
      "text/plain": [
       "<Figure size 432x288 with 1 Axes>"
      ]
     },
     "metadata": {
      "needs_background": "light"
     },
     "output_type": "display_data"
    }
   ],
   "source": [
    "sns.boxplot(titanic['Age'],data=titanic)"
   ]
  }
 ],
 "metadata": {
  "kernelspec": {
   "display_name": "Python 3",
   "language": "python",
   "name": "python3"
  },
  "language_info": {
   "codemirror_mode": {
    "name": "ipython",
    "version": 3
   },
   "file_extension": ".py",
   "mimetype": "text/x-python",
   "name": "python",
   "nbconvert_exporter": "python",
   "pygments_lexer": "ipython3",
   "version": "3.8.8"
  }
 },
 "nbformat": 4,
 "nbformat_minor": 5
}
